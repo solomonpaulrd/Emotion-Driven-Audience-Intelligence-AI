{
 "cells": [
  {
   "cell_type": "code",
   "execution_count": null,
   "id": "334638bb-75e5-4e1a-9caf-0eb77e11bb1a",
   "metadata": {},
   "outputs": [],
   "source": [
    "import pandas as pd\n",
    "import json\n",
    "import os\n",
    "import sys\n",
    "\n",
    "def convert_excel_to_json(excel_file_path: str, json_output_path: str) -> bool:\n",
    "    \"\"\"\n",
    "    Converts an Excel file (first sheet) to a JSON array of objects.\n",
    "\n",
    "    Args:\n",
    "        excel_file_path: The path to the input Excel file (.xlsx).\n",
    "        json_output_path: The desired path for the output JSON file.\n",
    "\n",
    "    Returns:\n",
    "        True if conversion was successful, False otherwise.\n",
    "    \"\"\"\n",
    "    if not os.path.exists(excel_file_path):\n",
    "        print(f\"Error: Excel file not found at '{excel_file_path}'\")\n",
    "        print(\"Please ensure the Excel file is in the same directory as this script, or provide its full path.\")\n",
    "        return False\n",
    "\n",
    "    try:\n",
    "        # Read the first sheet of the Excel file into a pandas DataFrame\n",
    "        df = pd.read_excel(excel_file_path, header=0)\n",
    "\n",
    "        # Clean column names: remove leading/trailing whitespace, convert to lowercase\n",
    "        # and replace spaces/special characters with underscores for cleaner JSON keys\n",
    "        df.columns = df.columns.str.strip().str.lower().str.replace(r'[^a-z0-9_]+', '_', regex=True)\n",
    "\n",
    "        # Convert the entire DataFrame to JSON-safe Python objects, handling datetime automatically\n",
    "        data_list = json.loads(df.to_json(orient='records', date_format='iso'))\n",
    "\n",
    "        # Save to a formatted JSON file\n",
    "        with open(json_output_path, 'w', encoding='utf-8') as f:\n",
    "            json.dump(data_list, f, ensure_ascii=False, indent=2)\n",
    "\n",
    "        print(f\"✅ Successfully converted '{excel_file_path}' to '{json_output_path}'\")\n",
    "        print(f\"📊 Total records converted: {len(data_list)}\")\n",
    "        return True\n",
    "\n",
    "    except FileNotFoundError:\n",
    "        print(f\"Error: The file '{excel_file_path}' was not found. Please check the path and filename.\")\n",
    "        return False\n",
    "    except pd.errors.EmptyDataError:\n",
    "        print(f\"Error: The Excel file '{excel_file_path}' is empty.\")\n",
    "        return False\n",
    "    except Exception as e:\n",
    "        print(f\"An unexpected error occurred during conversion: {e}\")\n",
    "        print(f\"Error details: {type(e).__name__}: {e}\")\n",
    "        return False\n",
    "\n",
    "if __name__ == \"__main__\":\n",
    "    input_excel_file = 'Emotions_6monthsExcel_Data.xlsx'\n",
    "    output_json_file = 'article_emotions_data.json'\n",
    "\n",
    "    print(\"--- Starting Excel to JSON Conversion ---\")\n",
    "    \n",
    "    success = convert_excel_to_json(input_excel_file, output_json_file)\n",
    "\n",
    "    if success:\n",
    "        print(\"\\n--- Conversion Complete ---\")\n",
    "        print(f\"Next steps:\")\n",
    "        print(f\"1. Copy '{output_json_file}' into your website project directory (e.g., 'sentiment-lens/').\")\n",
    "        print(f\"2. Ensure your HTML file uses this path:\")\n",
    "        print(f\"   const JSON_DATA_PATH = '{output_json_file}';\")\n",
    "        print(f\"3. Open your dashboard HTML in a browser to view the data.\")\n",
    "    else:\n",
    "        print(\"\\n--- Conversion Failed ---\")\n",
    "        print(\"Please review the error messages above and ensure:\")\n",
    "        print(f\"- Your Excel file '{input_excel_file}' exists and is accessible.\")\n",
    "        print(\"- You have pandas and openpyxl installed (`pip install pandas openpyxl`).\")\n"
   ]
  },
  {
   "cell_type": "code",
   "execution_count": 6,
   "id": "187315e8-9ede-44b1-9908-e3e5d47f31b0",
   "metadata": {},
   "outputs": [
    {
     "name": "stdout",
     "output_type": "stream",
     "text": [
      "Number of rows: 91687\n"
     ]
    }
   ],
   "source": [
    "import json\n",
    "\n",
    "with open('article_emotions_data.json', 'r') as f:\n",
    "    data = json.load(f) \n",
    "num_rows = len(data) \n",
    "\n",
    "print(f\"Number of rows: {num_rows}\")"
   ]
  },
  {
   "cell_type": "code",
   "execution_count": null,
   "id": "cf2c9d69-1589-4dbd-af11-d3b89529014e",
   "metadata": {},
   "outputs": [],
   "source": []
  }
 ],
 "metadata": {
  "kernelspec": {
   "display_name": "Python 3 (ipykernel)",
   "language": "python",
   "name": "python3"
  },
  "language_info": {
   "codemirror_mode": {
    "name": "ipython",
    "version": 3
   },
   "file_extension": ".py",
   "mimetype": "text/x-python",
   "name": "python",
   "nbconvert_exporter": "python",
   "pygments_lexer": "ipython3",
   "version": "3.13.5"
  }
 },
 "nbformat": 4,
 "nbformat_minor": 5
}
